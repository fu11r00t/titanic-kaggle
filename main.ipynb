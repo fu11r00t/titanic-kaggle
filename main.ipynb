{
 "cells": [
  {
   "cell_type": "code",
   "execution_count": 1,
   "metadata": {},
   "outputs": [],
   "source": [
    "#импорт необходимых библиотек\n",
    "import numpy as np #линейная алгебра\n",
    "import pandas as pd #обработка данных CSV, I/O\n",
    "%matplotlib inline\n",
    "import matplotlib.pyplot as plt  #графики в стиле matlab\n",
    "import seaborn as sns #статистические графики\n",
    "import warnings\n",
    "def ignore_warn(*args, **kwargs):\n",
    "    pass\n",
    "warnings.warn = ignore_warn #игнорим предупреждения от sklearn и seaborn\n",
    "from scipy import stats\n",
    "from scipy.stats import norm, skew #для статистики\n",
    "pd.set_option('display.float_format', lambda x: '{:.3f}'.format(x)) #ограничиваем вещественный вывод до 3-х знаков"
   ]
  },
  {
   "cell_type": "code",
   "execution_count": 2,
   "metadata": {},
   "outputs": [],
   "source": [
    "train = pd.read_csv('train.csv') #читаем датасеты\n",
    "test = pd.read_csv('test.csv')"
   ]
  }
 ],
 "metadata": {
  "kernelspec": {
   "display_name": ".venv",
   "language": "python",
   "name": "python3"
  },
  "language_info": {
   "codemirror_mode": {
    "name": "ipython",
    "version": 3
   },
   "file_extension": ".py",
   "mimetype": "text/x-python",
   "name": "python",
   "nbconvert_exporter": "python",
   "pygments_lexer": "ipython3",
   "version": "3.12.4"
  }
 },
 "nbformat": 4,
 "nbformat_minor": 2
}
